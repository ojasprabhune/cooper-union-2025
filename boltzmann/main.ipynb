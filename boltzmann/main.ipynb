{
 "cells": [
  {
   "cell_type": "code",
   "execution_count": 2,
   "id": "0f307449",
   "metadata": {},
   "outputs": [],
   "source": [
    "import importlib \n",
    "\n",
    "import ball\n",
    "from ball import Ball\n",
    "importlib.reload(ball)\n",
    "\n",
    "\n",
    "from scipy.stats import boltzmann\n",
    "\n",
    "import numpy as np\n",
    "import matplotlib.pyplot as plt\n",
    "import matplotlib.animation as animation\n",
    "\n",
    "from IPython.display import HTML"
   ]
  },
  {
   "cell_type": "code",
   "execution_count": null,
   "id": "1947a8d6",
   "metadata": {},
   "outputs": [
    {
     "ename": "SyntaxError",
     "evalue": "invalid syntax (948678035.py, line 26)",
     "output_type": "error",
     "traceback": [
      "\u001b[0;36m  Cell \u001b[0;32mIn[15], line 26\u001b[0;36m\u001b[0m\n\u001b[0;31m    position, velocity_x, velocity_y, direction_x, direction_y =ball.circle ball.position, ball.velocity_x, ball.velocity_y, ball.direction_x, ball.direction_y\u001b[0m\n\u001b[0m                                                                            ^\u001b[0m\n\u001b[0;31mSyntaxError\u001b[0m\u001b[0;31m:\u001b[0m invalid syntax\n"
     ]
    }
   ],
   "source": [
    "num_frames = 1200\n",
    "n = 10\n",
    "balls = []\n",
    "velocity_multiplier = 0.075\n",
    "\n",
    "# set up the figure and axis\n",
    "# plt.ioff() # stop automatic inline display\n",
    "fig, ax = plt.subplots()\n",
    "ax.set_xlim(0, n + 1)\n",
    "ax.set_ylim(0, n + 1)\n",
    "ax.set_aspect('equal')\n",
    "\n",
    "# obtain positions for nxn grid\n",
    "for i in range(n):\n",
    "    for j in range(n):\n",
    "        # create a dot at an initial dummy position\n",
    "        circle, = ax.plot([], [], 'bo')\n",
    "        ball = Ball([abs(i + 1), abs(j + 1)], circle)\n",
    "        balls.append(ball)\n",
    "\n",
    "# animation update function\n",
    "def update(frame):\n",
    "    print(frame)\n",
    "    for ball in balls:\n",
    "        circle = ball.circle\n",
    "        Xpos = ball.position[0]\n",
    "        Ypos = ball.position[1]\n",
    "        velocity_x =  ball.velocity_x * velocity_multiplier\n",
    "        velocity_y = ball.velocity_y * velocity_multiplier\n",
    "        direction_x = ball.direction_x\n",
    "        direction_y = ball.direction_y \n",
    "\n",
    "\n",
    "        if Xpos >= (n + 1):\n",
    "            direction_x = -1\n",
    "        elif Xpos <= 0:\n",
    "            direction_x = 1\n",
    "\n",
    "        if Ypos >= (n + 1):\n",
    "            direction_y = -1\n",
    "        elif Ypos <= 0:\n",
    "            direction_y = 1\n",
    "\n",
    "        # finalize positions for that frame\n",
    "        Xpos = [(Xpos + (velocity_x * direction_x))]\n",
    "        Ypos = [(Ypos + (velocity_y * direction_y))]\n",
    "\n",
    "        # print(\"XPOS:\", Xpos, \"\\nDIRECTION:\", direction_x)\n",
    "\n",
    "        circle.set_data(Xpos, Ypos)\n",
    "\n",
    "        # update inherent ball position\n",
    "        ball.circle = circle\n",
    "        ball.position = [Xpos[0], Ypos[0]]\n",
    "        ball.direction_x = direction_x\n",
    "        ball.direction_y = direction_y\n",
    "        ball.velocity_x = v\n",
    "\n",
    "# frame generator\n",
    "def frames(frames):\n",
    "    for x in range(frames):\n",
    "        yield x * 0.0015 # 0.015\n",
    "\n",
    "# animation\n",
    "ani_obj = animation.FuncAnimation(fig, update, frames=frames(num_frames), interval=1, save_count=num_frames) # interval=20\n",
    "HTML(ani_obj.to_jshtml()) # render inline"
   ]
  },
  {
   "cell_type": "code",
   "execution_count": 4,
   "id": "264751d4",
   "metadata": {},
   "outputs": [],
   "source": [
    "# fig, ax = plt.subplots(1, 1)\n",
    "# lambda_, N = 1.4, 19\n",
    "# lb, ub = boltzmann.support(lambda_, N)\n",
    "# mean, var, skew, kurt = boltzmann.stats(lambda_, N, moments=\"mvsk\")\n",
    "\n",
    "# x = np.arange(boltzmann.ppf(0.01, lambda_, N),\n",
    "#               boltzmann.ppf(0.99, lambda_, N))\n",
    "# ax.plot(x, boltzmann.pmf(x, lambda_, N), \"bo\", ms=8, label=\"boltzmann pmf\")\n",
    "# ax.vlines(x, 0, boltzmann.pmf(x, lambda_, N), colors=\"b\", lw=5, alpha=0.5)\n",
    "\n",
    "# prob = boltzmann.cdf(x, lambda_, N)\n",
    "# np.allclose(x, boltzmann.ppf(prob, lambda_, N))\n",
    "\n",
    "# r = boltzmann.rvs(lambda_, N, size=1000)"
   ]
  }
 ],
 "metadata": {
  "kernelspec": {
   "display_name": "env",
   "language": "python",
   "name": "python3"
  },
  "language_info": {
   "codemirror_mode": {
    "name": "ipython",
    "version": 3
   },
   "file_extension": ".py",
   "mimetype": "text/x-python",
   "name": "python",
   "nbconvert_exporter": "python",
   "pygments_lexer": "ipython3",
   "version": "3.10.12"
  }
 },
 "nbformat": 4,
 "nbformat_minor": 5
}
